{
 "cells": [
  {
   "cell_type": "markdown",
   "metadata": {},
   "source": [
    "# All of Annsel"
   ]
  },
  {
   "cell_type": "markdown",
   "metadata": {},
   "source": [
    "This notebook tells you just about everything you need to use `annsel`. It's a good starting point to get a feel for the package.\n",
    "\n",
    ":::{note}\n",
    ":class: dropdown\n",
    "\n",
    "You should be familiar with [`AnnData` ](https://anndata.readthedocs.io/en/latest/) beforehand.\n",
    ":::"
   ]
  },
  {
   "cell_type": "markdown",
   "metadata": {},
   "source": [
    "## Set up Data"
   ]
  },
  {
   "cell_type": "code",
   "execution_count": null,
   "metadata": {},
   "outputs": [],
   "source": [
    "%load_ext autoreload\n",
    "%autoreload 2"
   ]
  },
  {
   "cell_type": "code",
   "execution_count": null,
   "metadata": {},
   "outputs": [],
   "source": [
    "import annsel as an"
   ]
  },
  {
   "cell_type": "markdown",
   "metadata": {},
   "source": [
    "We will load a Leukemic bone marrow cytometry dataset :cite:p:`triana_single-cell_2021` You can view the dataset on [CellxGene](https://cellxgene.cziscience.com/e/b3a5a10f-b1cb-4e8e-abce-bf345448625b.cxg/).\n"
   ]
  },
  {
   "cell_type": "code",
   "execution_count": null,
   "metadata": {},
   "outputs": [],
   "source": [
    "adata = an.datasets.leukemic_bone_marrow_dataset()"
   ]
  },
  {
   "cell_type": "code",
   "execution_count": null,
   "metadata": {},
   "outputs": [],
   "source": [
    "adata = an.datasets.focal_cortical_dysplasia_dataset()"
   ]
  },
  {
   "cell_type": "code",
   "execution_count": null,
   "metadata": {},
   "outputs": [],
   "source": [
    "adata"
   ]
  },
  {
   "cell_type": "code",
   "execution_count": null,
   "metadata": {},
   "outputs": [],
   "source": [
    "adata.an.filter(obs=an.col(), var=an.col(), x=an.col())"
   ]
  },
  {
   "cell_type": "code",
   "execution_count": null,
   "metadata": {},
   "outputs": [],
   "source": [
    "for group in adata.an.group_by(an.obs_col([\"Cell_label\"])):\n",
    "    print(group)"
   ]
  },
  {
   "cell_type": "markdown",
   "metadata": {},
   "source": [
    "Importing `annsel` will automatically register the `AnnData` accessors. You can access them with `anndata.AnnData.an`.\n",
    "\n",
    "The accessor allows you to perform operations on `AnnData` objects with respect to columns and indices.\n",
    "\n",
    "\n",
    "In addition, the following `Narwhals` inherited expressions are also available:\n",
    "\n",
    "\n",
    "You express the following:\n",
    "1. Observation columns: `an.obs_col()`\n",
    "2. Variable columns: `an.var_col()`\n",
    "3. Observation names: `an.obs_names()`\n",
    "4. Variable names with the context of the `var` DataFrame: `an.var_names()`\n",
    "5. Variable names with the context of the `X` matrix `an.x()`\n",
    "\n",
    "\n",
    "These can be combined with the following methods:\n",
    "1. Filtering: `an.filter()`\n",
    "2. Selection: `an.select()`"
   ]
  },
  {
   "cell_type": "markdown",
   "metadata": {},
   "source": [
    "You'll find that there are many familiar expressions which you can use. View the supported [`Narwhals` `Expr`](https://narwhals-dev.github.io/narwhals/api-completeness/expr/) methods for a full list."
   ]
  },
  {
   "cell_type": "markdown",
   "metadata": {},
   "source": [
    "## Filter\n"
   ]
  },
  {
   "cell_type": "markdown",
   "metadata": {},
   "source": [
    "Suppose we only want to select variables which are Protein Coding genes. We can use the `var_cols` callable to filter the `AnnData` object where `\"feature_type\"` is \"`protein_coding\"`.\n"
   ]
  },
  {
   "cell_type": "code",
   "execution_count": null,
   "metadata": {},
   "outputs": [],
   "source": [
    "adata.an.filter(\n",
    "    an.var_col([\"feature_type\"]) == \"protein_coding\",\n",
    ")"
   ]
  },
  {
   "cell_type": "markdown",
   "metadata": {},
   "source": [
    ":::{note}\n",
    ":class: dropdown\n",
    "\n",
    "This is equivalent to:\n",
    "```python\n",
    "\n",
    "adata[:, adata.var[\"feature_type\"] == \"protein_coding\"]\n",
    "```\n",
    ":::"
   ]
  },
  {
   "cell_type": "markdown",
   "metadata": {},
   "source": [
    "Or if we want multiple feature types, we can use the method [`is_in`](https://narwhals-dev.github.io/narwhals/api-reference/expr/#narwhals.Expr.is_in). We can also use set operations to combine multiple predicates into a single predicate.\n"
   ]
  },
  {
   "cell_type": "code",
   "execution_count": null,
   "metadata": {},
   "outputs": [],
   "source": [
    "adata.an.filter(\n",
    "    an.var_col([\"feature_type\"]).is_in([\"protein_coding\", \"lncRNA\"])\n",
    "    | an.var_col([\"feature_name\"]).is_in([\"IGHD\", \"IGHM\", \"IGKC\"])\n",
    ")"
   ]
  },
  {
   "cell_type": "markdown",
   "metadata": {},
   "source": [
    ":::{note}\n",
    ":class: dropdown\n",
    "\n",
    "This is equivalent to:\n",
    "```python\n",
    "\n",
    "adata[\n",
    "    :,\n",
    "    adata.var[\"feature_type\"].isin([\"protein_coding\", \"lncRNA\"])\n",
    "    | adata.var[\"feature_name\"].isin([\"IGHD\", \"IGHM\", \"IGKC\"]),\n",
    "]\n",
    "```\n",
    ":::"
   ]
  },
  {
   "cell_type": "markdown",
   "metadata": {},
   "source": [
    "Let's filter the dataset by the various cell labels using `obs_col`.\n",
    "\n"
   ]
  },
  {
   "cell_type": "code",
   "execution_count": null,
   "metadata": {},
   "outputs": [],
   "source": [
    "adata.an.filter(an.obs_col([\"Cell_label\"]) == \"Lymphomyeloid prog\")"
   ]
  },
  {
   "cell_type": "markdown",
   "metadata": {},
   "source": [
    ":::{note}\n",
    ":class: dropdown\n",
    "\n",
    "This is equivalent to:\n",
    "```python\n",
    "\n",
    "adata[adata.obs[\"Cell_label\"] == \"Lymphomyeloid prog\", :]\n",
    "```\n",
    ":::"
   ]
  },
  {
   "cell_type": "markdown",
   "metadata": {},
   "source": [
    "We can combine multiple predicates to filter by both obs and var."
   ]
  },
  {
   "cell_type": "code",
   "execution_count": null,
   "metadata": {},
   "outputs": [],
   "source": [
    "adata.an.filter(\n",
    "    an.obs_col([\"Cell_label\"]) == \"Lymphomyeloid prog\",\n",
    "    an.var_col([\"feature_type\"]).is_in([\"protein_coding\"]),\n",
    "    an.var_col([\"vst.mean\"]) >= 0.5,\n",
    "    an.obs_col([\"sex\"]) == \"male\",\n",
    ")"
   ]
  },
  {
   "cell_type": "markdown",
   "metadata": {},
   "source": [
    ":::{note}\n",
    ":class: dropdown\n",
    "\n",
    "This is equivalent to \n",
    "\n",
    "```python\n",
    "adata[\n",
    "    (adata.obs[\"Cell_label\"] == \"Lymphomyeloid prog\") & (adata.obs[\"sex\"] == \"male\"),\n",
    "    (adata.var[\"feature_type\"].isin([\"protein_coding\"])) & (adata.var[\"vst.mean\"] >= 0.5),\n",
    "]\n",
    "```\n",
    ":::\n"
   ]
  },
  {
   "cell_type": "markdown",
   "metadata": {},
   "source": [
    "We can also filter by `var_names` and `obs_names`. We can also return a copy instead of a view of the original `AnnData` object.\n"
   ]
  },
  {
   "cell_type": "code",
   "execution_count": null,
   "metadata": {},
   "outputs": [],
   "source": [
    "adata.an.filter(an.var_names().str.starts_with(\"ENSG0000018\"), an.obs_names().str.ends_with(\"1\"), copy=True)"
   ]
  },
  {
   "cell_type": "markdown",
   "metadata": {},
   "source": [
    ":::{note}\n",
    ":class: dropdown\n",
    "\n",
    "This is equivalent to \n",
    "\n",
    "```python\n",
    "adata[adata.obs_names.str.endswith(\"1\"), adata.var_names.str.startswith(\"ENSG0000018\")]\n",
    "```\n",
    ":::\n"
   ]
  },
  {
   "cell_type": "markdown",
   "metadata": {},
   "source": [
    "## Select"
   ]
  },
  {
   "cell_type": "markdown",
   "metadata": {},
   "source": [
    "We can also select columns from `X`, `var` and `obs` as well."
   ]
  },
  {
   "cell_type": "code",
   "execution_count": null,
   "metadata": {},
   "outputs": [],
   "source": [
    "adata.an.select(an.obs_col([\"Cluster_ID\"]), an.var_col([\"feature_type\"]), an.x([\"ENSG00000206560\"]))"
   ]
  },
  {
   "cell_type": "code",
   "execution_count": null,
   "metadata": {},
   "outputs": [],
   "source": [
    "import itertools\n",
    "import narwhals as nw\n",
    "import anndata as ad\n",
    "from narwhals.typing import IntoExpr, IntoDataFrame\n",
    "\n",
    "\n",
    "@nw.narwhalify\n",
    "def _groupby_obs(df: IntoDataFrame, col: IntoExpr) -> nw.Expr:\n",
    "    return df.group_by(col)\n",
    "\n",
    "\n",
    "@nw.narwhalify\n",
    "def _groupby_var(df: IntoDataFrame, col: IntoExpr) -> nw.Expr:\n",
    "    return df.group_by(col)\n",
    "\n",
    "\n",
    "# Modify the _groupby function to handle the iteration properly\n",
    "def _groupby(adata: ad.AnnData, obs_col: IntoExpr, var_col: IntoExpr):\n",
    "    obs_groups = _groupby_obs(adata.obs, obs_col)\n",
    "    var_groups = _groupby_var(adata.var, var_col)\n",
    "\n",
    "    # Create generator of all combinations\n",
    "    for (_obs_name, obs_data), (_var_name, var_data) in itertools.product(obs_groups, var_groups):\n",
    "        # Get the indices and slice the AnnData\n",
    "        obs_idx = obs_data.to_native().index\n",
    "        var_idx = var_data.to_native().index\n",
    "        yield adata[obs_idx, var_idx]\n",
    "\n",
    "\n",
    "_groupby_obs(adata.obs, nw.col(\"Cluster_ID\"))\n",
    "\n",
    "\n",
    "# Usage:\n",
    "# for group in _groupby(adata, obs_col=[\"Cluster_ID\", \"Cell_label\"], var_col=[\"feature_type\"]):\n",
    "#     print(group)"
   ]
  },
  {
   "cell_type": "code",
   "execution_count": null,
   "metadata": {},
   "outputs": [],
   "source": [
    "an.obs_col([\"Cluster_ID\", \"Cell_label\"])"
   ]
  },
  {
   "cell_type": "code",
   "execution_count": null,
   "metadata": {},
   "outputs": [],
   "source": [
    "list(adata.an.group_by(an.obs_col([\"Cluster_ID\", \"Cell_label\"])))"
   ]
  },
  {
   "cell_type": "markdown",
   "metadata": {},
   "source": [
    "## Pipe\n"
   ]
  },
  {
   "cell_type": "markdown",
   "metadata": {},
   "source": [
    "You can also use the `pipe` method to chain multiple operations together.\n"
   ]
  },
  {
   "cell_type": "code",
   "execution_count": null,
   "metadata": {},
   "outputs": [],
   "source": [
    "import scanpy as sc\n",
    "\n",
    "adata.an.filter(\n",
    "    an.obs_col([\"Cell_label\"]) == \"Lymphomyeloid prog\",\n",
    "    an.var_col([\"feature_type\"]).is_in([\"protein_coding\"]),\n",
    "    copy=True,\n",
    ").an.pipe(sc.pl.pca, color=[\"Cluster_ID\"])"
   ]
  },
  {
   "cell_type": "code",
   "execution_count": null,
   "metadata": {},
   "outputs": [],
   "source": [
    "adata.an.select(an.var_col([\"feature_type\"]), an.x([\"ENSG00000206560\"]))"
   ]
  },
  {
   "cell_type": "code",
   "execution_count": null,
   "metadata": {},
   "outputs": [],
   "source": [
    "adata.obs"
   ]
  }
 ],
 "metadata": {
  "kernelspec": {
   "display_name": ".venv",
   "language": "python",
   "name": "python3"
  },
  "language_info": {
   "codemirror_mode": {
    "name": "ipython",
    "version": 3
   },
   "file_extension": ".py",
   "mimetype": "text/x-python",
   "name": "python",
   "nbconvert_exporter": "python",
   "pygments_lexer": "ipython3"
  }
 },
 "nbformat": 4,
 "nbformat_minor": 4
}
