{
 "cells": [
  {
   "cell_type": "markdown",
   "metadata": {},
   "source": [
    "# All of Annsel"
   ]
  },
  {
   "cell_type": "markdown",
   "metadata": {},
   "source": [
    "This notebook tells you just about everything you need to use `annsel`. It's a good starting point to get a feel for the package.\n",
    "\n",
    ":::{note}\n",
    ":class: dropdown\n",
    "\n",
    "You should be familiar with [`AnnData` ](https://anndata.readthedocs.io/en/latest/) beforehand.\n",
    ":::"
   ]
  },
  {
   "cell_type": "markdown",
   "metadata": {},
   "source": [
    "## Set up Data"
   ]
  },
  {
   "cell_type": "code",
   "execution_count": null,
   "metadata": {},
   "outputs": [],
   "source": [
    "%load_ext autoreload\n",
    "%autoreload 2"
   ]
  },
  {
   "cell_type": "code",
   "execution_count": null,
   "metadata": {},
   "outputs": [],
   "source": [
    "import annsel as an"
   ]
  },
  {
   "cell_type": "markdown",
   "metadata": {},
   "source": [
    "We will load a Leukemic bone marrow cytometry dataset :cite:p:`Triana2021` You can view the dataset on [CellxGene](https://cellxgene.cziscience.com/e/b3a5a10f-b1cb-4e8e-abce-bf345448625b.cxg/)."
   ]
  },
  {
   "cell_type": "code",
   "execution_count": null,
   "metadata": {},
   "outputs": [],
   "source": [
    "adata = an.datasets.leukemic_bone_marrow_dataset()"
   ]
  },
  {
   "cell_type": "markdown",
   "metadata": {},
   "source": [
    "View the contents of the `AnnData` object.\n"
   ]
  },
  {
   "cell_type": "markdown",
   "metadata": {},
   "source": [
    "Importing `annsel` will automatically register the accessor and add the `an` attribute to the `AnnData` object's namespace.\n",
    "\n",
    "You can access the methods of the accessor using the `an` attribute on an `AnnData` object.\n",
    "\n",
    "```python\n",
    "\n",
    "anndata.AnnData.an.<method_name>\n",
    "```"
   ]
  },
  {
   "cell_type": "markdown",
   "metadata": {},
   "source": [
    "## Filter\n",
    "\n",
    "\n",
    "We can filter the `AnnData` object using the `filter` method. Filtering can be applied to the `obs`, `var`, `X` (with a layer), `obs_names` and `var_names`.\n"
   ]
  },
  {
   "cell_type": "markdown",
   "metadata": {},
   "source": [
    "Let's filter the `AnnData` object by the Cell Type stored in `obs[\"Cell_label\"]`."
   ]
  },
  {
   "cell_type": "code",
   "execution_count": null,
   "metadata": {},
   "outputs": [],
   "source": [
    "adata.an.filter(obs=an.col([\"Cell_label\"]) == \"CD8+CD103+ tissue resident memory T cells\")"
   ]
  },
  {
   "cell_type": "markdown",
   "metadata": {},
   "source": [
    ":::{note}\n",
    "This is equivalent to \n",
    "\n",
    "```python\n",
    "adata[adata.obs[\"Cell_label\"] == \"CD8+CD103+ tissue resident memory T cells\", :]\n",
    "```\n",
    ":::\n",
    "\n",
    "\n",
    "\n"
   ]
  },
  {
   "cell_type": "markdown",
   "metadata": {},
   "source": [
    "You can also apply other expressions to `an.col` callable, for example `is_in` allows you to filter by a list of values. Under the hood, `annsel` uses [Narwhals](https://narwhals-dev.github.io/narwhals/) to apply these expressions. A full list of expressions which can be applied to a column can be found [here](https://narwhals-dev.github.io/narwhals/api-reference/expr/)."
   ]
  },
  {
   "cell_type": "code",
   "execution_count": null,
   "metadata": {},
   "outputs": [],
   "source": [
    "adata.an.filter(obs=an.col([\"Cell_label\"]).is_in([\"Classical Monocytes\", \"CD8+CD103+ tissue resident memory T cells\"]))"
   ]
  },
  {
   "cell_type": "markdown",
   "metadata": {},
   "source": [
    "We can also combine multiple Predicates using the `&` and `|` operators."
   ]
  },
  {
   "cell_type": "code",
   "execution_count": null,
   "metadata": {},
   "outputs": [],
   "source": [
    "adata.an.filter(\n",
    "    obs=(an.col([\"Cell_label\"]).is_in([\"Classical Monocytes\", \"CD8+CD103+ tissue resident memory T cells\"]))\n",
    "    & (an.col([\"sex\"]) == \"male\")\n",
    ")"
   ]
  },
  {
   "cell_type": "markdown",
   "metadata": {},
   "source": [
    "Or if you pass a tuple of Predicates, it will apply the `&` operator between them automatically."
   ]
  },
  {
   "cell_type": "code",
   "execution_count": null,
   "metadata": {},
   "outputs": [],
   "source": [
    "adata.an.filter(\n",
    "    obs=(\n",
    "        an.col([\"Cell_label\"]).is_in([\"Classical Monocytes\", \"CD8+CD103+ tissue resident memory T cells\"]),\n",
    "        an.col([\"sex\"]) == \"male\",\n",
    "    )\n",
    ")"
   ]
  },
  {
   "cell_type": "markdown",
   "metadata": {},
   "source": [
    "The `|` operator is applied between the Predicates as well. Here we will select all the cells that are either Classical Monocytes or CD8+CD103+ tissue resident memory T cells, or are from male samples irrespective of the cell type."
   ]
  },
  {
   "cell_type": "code",
   "execution_count": null,
   "metadata": {},
   "outputs": [],
   "source": [
    "adata.an.filter(\n",
    "    obs=(\n",
    "        an.col([\"Cell_label\"]).is_in([\"Classical Monocytes\", \"CD8+CD103+ tissue resident memory T cells\"])\n",
    "        | (an.col([\"sex\"]) == \"male\")\n",
    "    )\n",
    ")"
   ]
  },
  {
   "cell_type": "markdown",
   "metadata": {},
   "source": [
    "We can also filter the `AnnData` object by the `var` column. Here we will filter the `AnnData` object to only include the genes with `vst.mean` greater than or equal to 3."
   ]
  },
  {
   "cell_type": "code",
   "execution_count": null,
   "metadata": {},
   "outputs": [],
   "source": [
    "adata.an.filter(var=an.col([\"vst.mean\"]) >= 3)"
   ]
  },
  {
   "cell_type": "markdown",
   "metadata": {},
   "source": [
    "Filtering can also be applied to the `X` matrix. Here we will filter the `AnnData` object to only include the cells with `ENSG00000205336` gene expression greater than 1. If you want to filter by a layer, you can pass the layer name to the `layer` argument. and the operation will be applied to the `var_name` of that layer."
   ]
  },
  {
   "cell_type": "code",
   "execution_count": null,
   "metadata": {},
   "outputs": [],
   "source": [
    "adata.an.filter(\n",
    "    x=an.col([\"ENSG00000205336\"]) > 1,\n",
    "    layer=None,\n",
    ")"
   ]
  },
  {
   "cell_type": "markdown",
   "metadata": {},
   "source": [
    "This can all be combined together as well"
   ]
  },
  {
   "cell_type": "code",
   "execution_count": null,
   "metadata": {},
   "outputs": [],
   "source": [
    "adata.an.filter(\n",
    "    obs=(\n",
    "        an.col([\"Cell_label\"]).is_in([\"Classical Monocytes\", \"CD8+CD103+ tissue resident memory T cells\"]),\n",
    "        an.col([\"sex\"]) == \"male\",\n",
    "    ),\n",
    "    var=an.col([\"vst.mean\"]) >= 3,\n",
    ")"
   ]
  },
  {
   "cell_type": "markdown",
   "metadata": {},
   "source": [
    "Filtering can also be applied to `var_names` and `obs_names` using the `an.var_names` and `an.obs_names` predicates respectively. These are special predicates which can only be applied to `var_names` and `obs_names` of the `AnnData` object."
   ]
  },
  {
   "cell_type": "markdown",
   "metadata": {},
   "source": [
    "Here, arbitrarily, we will filter the AnnData object to only include the cells with `obs_names` starting with `645` and the genes with `var_names` starting with `ENSG0000018`."
   ]
  },
  {
   "cell_type": "code",
   "execution_count": null,
   "metadata": {},
   "outputs": [],
   "source": [
    "adata.an.filter(obs_names=an.obs_names.str.starts_with(\"645\"), var_names=an.var_names.str.starts_with(\"ENSG0000018\"))"
   ]
  },
  {
   "cell_type": "markdown",
   "metadata": {},
   "source": [
    "## Select\n",
    "\n",
    "\n",
    "We can also apply the `select` method to the `AnnData` object. This is similar to the `filter` method, but it will only keep the rows and columns that match the Predicates. It can be applied to the `obs`, `var`, and `X`."
   ]
  },
  {
   "cell_type": "markdown",
   "metadata": {},
   "source": [
    "Here we will select the `Cell_label` and `sex` columns from the `obs` table, the `feature_name` column from the `var` table and the `ENSG00000205336` gene from `X`. This will return a new `AnnData` object with only these columns in the `obs`, `var` and `X` tables."
   ]
  },
  {
   "cell_type": "code",
   "execution_count": null,
   "metadata": {},
   "outputs": [],
   "source": [
    "adata.an.select(\n",
    "    obs=an.col([\"Cell_label\", \"sex\"]),\n",
    "    var=an.col([\"feature_name\"]),\n",
    "    x=an.col([\"ENSG00000205336\"]),\n",
    ")"
   ]
  },
  {
   "cell_type": "markdown",
   "metadata": {},
   "source": [
    "## Group By\n",
    "\n",
    "\n",
    "We can also group the `AnnData` object by the `obs` and `var` columns. This will return a generator of `AnnData` objects subset on each group.\n",
    "\n"
   ]
  },
  {
   "cell_type": "markdown",
   "metadata": {},
   "source": [
    "Here we will group the `AnnData` object by the `Cell_label` column in the `obs` table and the `feature_type` column in the `var` table."
   ]
  },
  {
   "cell_type": "markdown",
   "metadata": {},
   "source": [
    "If you pass `return_group_names=True`, the generator will yield a tuple of the group name and the `AnnData` object. If you group by both `obs` and `var`, the generator will yield a tuple of the both group names and the `AnnData` object, if you group by only one, it will yield a tuple of the group name and the `AnnData` object."
   ]
  },
  {
   "cell_type": "code",
   "execution_count": null,
   "metadata": {},
   "outputs": [],
   "source": [
    "for i in adata.an.group_by(\n",
    "    obs=an.col([\"Cell_label\"]),\n",
    "    var=an.col([\"feature_type\"]),\n",
    "    return_group_names=True,\n",
    "):\n",
    "    obs_group, var_group, _adata = i"
   ]
  },
  {
   "cell_type": "markdown",
   "metadata": {},
   "source": [
    "## Pipe"
   ]
  },
  {
   "cell_type": "markdown",
   "metadata": {},
   "source": [
    "We can also use pipe to apply functions on `AnnData` objects."
   ]
  },
  {
   "cell_type": "code",
   "execution_count": null,
   "metadata": {},
   "outputs": [],
   "source": [
    "adata"
   ]
  },
  {
   "cell_type": "code",
   "execution_count": null,
   "metadata": {},
   "outputs": [],
   "source": [
    "import scanpy as sc\n",
    "\n",
    "adata.an.pipe(sc.pl.embedding, basis=\"X_tsneni\", color=\"Cell_label\")"
   ]
  },
  {
   "cell_type": "markdown",
   "metadata": {},
   "source": [
    "We can chain together multiple methods as well."
   ]
  },
  {
   "cell_type": "code",
   "execution_count": null,
   "metadata": {},
   "outputs": [],
   "source": [
    "adata.an.select(obs=an.col([\"Cell_label\"])).an.filter(\n",
    "    obs=an.col([\"Cell_label\"]).is_in([\"Classical Monocytes\", \"CD8+CD103+ tissue resident memory T cells\"])\n",
    ").an.pipe(sc.pl.embedding, basis=\"X_tsneni\", color=\"Cell_label\")"
   ]
  }
 ],
 "metadata": {
  "kernelspec": {
   "display_name": ".venv",
   "language": "python",
   "name": "python3"
  },
  "language_info": {
   "codemirror_mode": {
    "name": "ipython",
    "version": 3
   },
   "file_extension": ".py",
   "mimetype": "text/x-python",
   "name": "python",
   "nbconvert_exporter": "python",
   "pygments_lexer": "ipython3"
  }
 },
 "nbformat": 4,
 "nbformat_minor": 4
}
